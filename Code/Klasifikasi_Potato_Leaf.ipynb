{
  "nbformat": 4,
  "nbformat_minor": 0,
  "metadata": {
    "colab": {
      "name": "Klasifikasi Potato Leaf.ipynb",
      "provenance": [],
      "authorship_tag": "ABX9TyNrf2YMjnDtg68AAgx+s7nA",
      "include_colab_link": true
    },
    "kernelspec": {
      "name": "python3",
      "display_name": "Python 3"
    },
    "language_info": {
      "name": "python"
    }
  },
  "cells": [
    {
      "cell_type": "markdown",
      "metadata": {
        "id": "view-in-github",
        "colab_type": "text"
      },
      "source": [
        "<a href=\"https://colab.research.google.com/github/Safirarahmah246/ProgramCNN/blob/main/Code/Klasifikasi_Potato_Leaf.ipynb\" target=\"_parent\"><img src=\"https://colab.research.google.com/assets/colab-badge.svg\" alt=\"Open In Colab\"/></a>"
      ]
    },
    {
      "cell_type": "code",
      "execution_count": 4,
      "metadata": {
        "colab": {
          "base_uri": "https://localhost:8080/"
        },
        "id": "8vMDHSX947sx",
        "outputId": "62a4e6ed-6cb6-4635-9e0b-72af8d2d07de"
      },
      "outputs": [
        {
          "output_type": "stream",
          "name": "stdout",
          "text": [
            "--2022-01-22 16:24:47--  https://download1645.mediafire.com/57h7biytjyag/x4kb3o0hqs812a1/daun_kentang.zip\n",
            "Resolving download1645.mediafire.com (download1645.mediafire.com)... 199.91.152.145\n",
            "Connecting to download1645.mediafire.com (download1645.mediafire.com)|199.91.152.145|:443... connected.\n",
            "HTTP request sent, awaiting response... 200 OK\n",
            "Length: 6551888 (6.2M) [application/zip]\n",
            "Saving to: ‘/tmp/daun_kentang.zip’\n",
            "\n",
            "/tmp/daun_kentang.z 100%[===================>]   6.25M  14.2MB/s    in 0.4s    \n",
            "\n",
            "2022-01-22 16:24:47 (14.2 MB/s) - ‘/tmp/daun_kentang.zip’ saved [6551888/6551888]\n",
            "\n"
          ]
        }
      ],
      "source": [
        "# Download dataset\n",
        "!wget --no-check-certificate \\\n",
        " https://download1645.mediafire.com/57h7biytjyag/x4kb3o0hqs812a1/daun_kentang.zip \\\n",
        "    -O /tmp/daun_kentang.zip\n"
      ]
    },
    {
      "cell_type": "code",
      "source": [
        "import os\n",
        "import zipfile\n",
        "\n",
        "local_zip = '/tmp/daun_kentang.zip'\n",
        "zip_ref = zipfile.ZipFile(local_zip, 'r')\n",
        "zip_ref.extractall('/tmp')\n",
        "zip_ref.close()"
      ],
      "metadata": {
        "id": "foK3SPm16jcI"
      },
      "execution_count": 5,
      "outputs": []
    },
    {
      "cell_type": "code",
      "source": [
        "# Definisikan path untuk data train dan data validation\n",
        "\n",
        "base_dir = '/tmp/daun_kentang'\n",
        "\n",
        "train_dir = os.path.join(base_dir, 'Train')\n",
        "validation_dir = os.path.join(base_dir, 'Validation')"
      ],
      "metadata": {
        "id": "4INfKvOz6qQw"
      },
      "execution_count": 6,
      "outputs": []
    },
    {
      "cell_type": "code",
      "source": [
        "import cv2\n",
        "import numpy as np\n",
        "\n",
        "# Gather data train\n",
        "train_data = []\n",
        "train_label = []\n",
        "for r, d, f in os.walk(train_dir):\n",
        "    for file in f:\n",
        "        if \".jpg\" in file:\n",
        "            imagePath = os.path.join(r, file)\n",
        "            image = cv2.imread(imagePath)\n",
        "            image = cv2.resize(image, (150,150))\n",
        "            train_data.append(image)\n",
        "            label = imagePath.split(os.path.sep)[-2]\n",
        "            train_label.append(label)\n",
        "\n",
        "train_data = np.array(train_data)\n",
        "train_label = np.array(train_label)"
      ],
      "metadata": {
        "id": "PlOuUIxp61ld"
      },
      "execution_count": 7,
      "outputs": []
    },
    {
      "cell_type": "code",
      "source": [
        "# Gather data validation\n",
        "val_data = []\n",
        "val_label = []\n",
        "for r, d, f in os.walk(validation_dir):\n",
        "    for file in f:\n",
        "        if \".jpg\" in file:\n",
        "            imagePath = os.path.join(r, file)\n",
        "            image = cv2.imread(imagePath)\n",
        "            image = cv2.resize(image, (150,150))\n",
        "            val_data.append(image)\n",
        "            label = imagePath.split(os.path.sep)[-2]\n",
        "            val_label.append(label)\n",
        "\n",
        "val_data = np.array(val_data)\n",
        "val_label = np.array(val_label)\n"
      ],
      "metadata": {
        "id": "mS9voZYY7CTG"
      },
      "execution_count": 8,
      "outputs": []
    },
    {
      "cell_type": "code",
      "source": [
        "# Tampilkan shape dari data train dan data validation\n",
        "print(\"Train Data = \", train_data.shape)\n",
        "print(\"Train Label = \", train_label.shape)\n",
        "print(\"Validation Data = \", val_data.shape)\n",
        "print(\"Validation Label = \", val_label.shape)"
      ],
      "metadata": {
        "colab": {
          "base_uri": "https://localhost:8080/"
        },
        "id": "m9oUlFVw7F6-",
        "outputId": "59bed4ce-8021-4843-d9b5-116c866b36bf"
      },
      "execution_count": 9,
      "outputs": [
        {
          "output_type": "stream",
          "name": "stdout",
          "text": [
            "Train Data =  (100, 150, 150, 3)\n",
            "Train Label =  (100,)\n",
            "Validation Data =  (150, 150, 150, 3)\n",
            "Validation Label =  (150,)\n"
          ]
        }
      ]
    },
    {
      "cell_type": "code",
      "source": [
        "# Normalisasi dataset\n",
        "print(\"Data sebelum di-normalisasi \", train_data[0][0][0])\n",
        "\n",
        "x_train = train_data.astype('float32') / 255.0\n",
        "x_val = val_data.astype('float32') / 255.0\n",
        "print(\"Data setelah di-normalisasi \", x_train[0][0][0])"
      ],
      "metadata": {
        "colab": {
          "base_uri": "https://localhost:8080/"
        },
        "id": "a9pHoxPo_xFk",
        "outputId": "ebfdef91-b9bf-4862-9151-c6668c3fa75f"
      },
      "execution_count": 10,
      "outputs": [
        {
          "output_type": "stream",
          "name": "stdout",
          "text": [
            "Data sebelum di-normalisasi  [141 124 127]\n",
            "Data setelah di-normalisasi  [0.5529412  0.4862745  0.49803922]\n"
          ]
        }
      ]
    },
    {
      "cell_type": "code",
      "source": [
        "# Transformasi label encoder\n",
        "from sklearn.preprocessing import LabelEncoder\n",
        "\n",
        "print(\"Label sebelum di-encoder \", train_label[995:1005])\n",
        "\n",
        "lb = LabelEncoder()\n",
        "y_train = lb.fit_transform(train_label)\n",
        "y_val = lb.fit_transform(val_label)\n",
        "\n",
        "print(\"Label setelah di-encoder \", y_train[995:1005])"
      ],
      "metadata": {
        "colab": {
          "base_uri": "https://localhost:8080/"
        },
        "id": "0_V7knf2_3zY",
        "outputId": "e1df360c-76af-4b55-f5c1-7e157026cda8"
      },
      "execution_count": 11,
      "outputs": [
        {
          "output_type": "stream",
          "name": "stdout",
          "text": [
            "Label sebelum di-encoder  []\n",
            "Label setelah di-encoder  []\n"
          ]
        }
      ]
    },
    {
      "cell_type": "code",
      "source": [
        "from tensorflow.keras.models import Sequential\n",
        "from tensorflow.keras.layers import InputLayer, Dense, Conv2D, MaxPool2D, Flatten"
      ],
      "metadata": {
        "id": "mngPbam5_7fy"
      },
      "execution_count": 12,
      "outputs": []
    },
    {
      "cell_type": "code",
      "source": [
        "# Feature Extraction Layer\n",
        "model = Sequential()\n",
        "\n",
        "model.add(InputLayer(input_shape=[150,150,3]))\n",
        "model.add(Conv2D(filters=16, kernel_size=3, strides=1, padding='same', activation='relu'))\n",
        "model.add(MaxPool2D(pool_size=2, padding='same'))\n",
        "model.add(Conv2D(filters=32, kernel_size=3, strides=1, padding='same', activation='relu'))\n",
        "model.add(MaxPool2D(pool_size=2, padding='same'))\n",
        "model.add(Conv2D(filters=64, kernel_size=3, strides=1, padding='same', activation='relu'))\n",
        "model.add(MaxPool2D(pool_size=2, padding='same'))\n",
        "model.add(Flatten())"
      ],
      "metadata": {
        "id": "bv0w9q5I__Ty"
      },
      "execution_count": 13,
      "outputs": []
    },
    {
      "cell_type": "code",
      "source": [
        "# Fully Connected Layer\n",
        "model.add(Dense(128, activation='relu'))\n",
        "model.add(Dense(1, activation='sigmoid'))"
      ],
      "metadata": {
        "id": "EQy0tlvFAE77"
      },
      "execution_count": 14,
      "outputs": []
    },
    {
      "cell_type": "code",
      "source": [
        "# Print model summary\n",
        "print(model.summary())"
      ],
      "metadata": {
        "colab": {
          "base_uri": "https://localhost:8080/"
        },
        "id": "1q7TsokcAIv9",
        "outputId": "ad9c7674-33ce-4398-e19d-a0ff368609d2"
      },
      "execution_count": 15,
      "outputs": [
        {
          "output_type": "stream",
          "name": "stdout",
          "text": [
            "Model: \"sequential\"\n",
            "_________________________________________________________________\n",
            " Layer (type)                Output Shape              Param #   \n",
            "=================================================================\n",
            " conv2d (Conv2D)             (None, 150, 150, 16)      448       \n",
            "                                                                 \n",
            " max_pooling2d (MaxPooling2D  (None, 75, 75, 16)       0         \n",
            " )                                                               \n",
            "                                                                 \n",
            " conv2d_1 (Conv2D)           (None, 75, 75, 32)        4640      \n",
            "                                                                 \n",
            " max_pooling2d_1 (MaxPooling  (None, 38, 38, 32)       0         \n",
            " 2D)                                                             \n",
            "                                                                 \n",
            " conv2d_2 (Conv2D)           (None, 38, 38, 64)        18496     \n",
            "                                                                 \n",
            " max_pooling2d_2 (MaxPooling  (None, 19, 19, 64)       0         \n",
            " 2D)                                                             \n",
            "                                                                 \n",
            " flatten (Flatten)           (None, 23104)             0         \n",
            "                                                                 \n",
            " dense (Dense)               (None, 128)               2957440   \n",
            "                                                                 \n",
            " dense_1 (Dense)             (None, 1)                 129       \n",
            "                                                                 \n",
            "=================================================================\n",
            "Total params: 2,981,153\n",
            "Trainable params: 2,981,153\n",
            "Non-trainable params: 0\n",
            "_________________________________________________________________\n",
            "None\n"
          ]
        }
      ]
    },
    {
      "cell_type": "code",
      "source": [
        "# Compile model\n",
        "from tensorflow.keras.optimizers import Adam\n",
        "\n",
        "model.compile(optimizer=Adam(lr=0.001), \n",
        "              loss='binary_crossentropy', \n",
        "              metrics=['acc'])"
      ],
      "metadata": {
        "colab": {
          "base_uri": "https://localhost:8080/"
        },
        "id": "4ADLptOPAKmo",
        "outputId": "5ec90834-bca8-4ba3-ba89-f8ac2f4e9fea"
      },
      "execution_count": 16,
      "outputs": [
        {
          "output_type": "stream",
          "name": "stderr",
          "text": [
            "/usr/local/lib/python3.7/dist-packages/keras/optimizer_v2/adam.py:105: UserWarning: The `lr` argument is deprecated, use `learning_rate` instead.\n",
            "  super(Adam, self).__init__(name, **kwargs)\n"
          ]
        }
      ]
    },
    {
      "cell_type": "code",
      "source": [
        "H = model.fit(x_train, y_train, batch_size=20, epochs=15, validation_data=(x_val, y_val))"
      ],
      "metadata": {
        "colab": {
          "base_uri": "https://localhost:8080/"
        },
        "id": "le-GNBKzAO6x",
        "outputId": "4bc19f52-a715-4056-dc9f-567fdb7c9e18"
      },
      "execution_count": 17,
      "outputs": [
        {
          "output_type": "stream",
          "name": "stdout",
          "text": [
            "Epoch 1/15\n",
            "5/5 [==============================] - 4s 657ms/step - loss: 1.4880 - acc: 0.4400 - val_loss: 1.1948 - val_acc: 0.3333\n",
            "Epoch 2/15\n",
            "5/5 [==============================] - 3s 595ms/step - loss: 0.6889 - acc: 0.5400 - val_loss: 0.6276 - val_acc: 0.3333\n",
            "Epoch 3/15\n",
            "5/5 [==============================] - 3s 601ms/step - loss: 0.6869 - acc: 0.5500 - val_loss: 0.6708 - val_acc: 0.6133\n",
            "Epoch 4/15\n",
            "5/5 [==============================] - 3s 601ms/step - loss: 0.6736 - acc: 0.6300 - val_loss: 0.6922 - val_acc: 0.5200\n",
            "Epoch 5/15\n",
            "5/5 [==============================] - 3s 597ms/step - loss: 0.5918 - acc: 0.8400 - val_loss: 0.4329 - val_acc: 0.5800\n",
            "Epoch 6/15\n",
            "5/5 [==============================] - 3s 598ms/step - loss: 0.4646 - acc: 0.8800 - val_loss: 0.2125 - val_acc: 0.6267\n",
            "Epoch 7/15\n",
            "5/5 [==============================] - 3s 594ms/step - loss: 0.2763 - acc: 0.9100 - val_loss: -0.4404 - val_acc: 0.5200\n",
            "Epoch 8/15\n",
            "5/5 [==============================] - 3s 597ms/step - loss: 0.2681 - acc: 0.8800 - val_loss: 0.3239 - val_acc: 0.6133\n",
            "Epoch 9/15\n",
            "5/5 [==============================] - 3s 600ms/step - loss: 0.1438 - acc: 0.9400 - val_loss: -0.5693 - val_acc: 0.6600\n",
            "Epoch 10/15\n",
            "5/5 [==============================] - 3s 604ms/step - loss: 0.0950 - acc: 0.9700 - val_loss: -0.8972 - val_acc: 0.6533\n",
            "Epoch 11/15\n",
            "5/5 [==============================] - 3s 601ms/step - loss: 0.0670 - acc: 0.9800 - val_loss: -0.5662 - val_acc: 0.6667\n",
            "Epoch 12/15\n",
            "5/5 [==============================] - 3s 607ms/step - loss: 0.0274 - acc: 1.0000 - val_loss: -0.2582 - val_acc: 0.6667\n",
            "Epoch 13/15\n",
            "5/5 [==============================] - 3s 599ms/step - loss: 0.0094 - acc: 1.0000 - val_loss: -0.4185 - val_acc: 0.6667\n",
            "Epoch 14/15\n",
            "5/5 [==============================] - 3s 606ms/step - loss: 0.0058 - acc: 1.0000 - val_loss: -0.6530 - val_acc: 0.6667\n",
            "Epoch 15/15\n",
            "5/5 [==============================] - 3s 604ms/step - loss: 0.0061 - acc: 1.0000 - val_loss: -1.4238 - val_acc: 0.6667\n"
          ]
        }
      ]
    },
    {
      "cell_type": "code",
      "source": [
        "%matplotlib inline\n",
        "\n",
        "import matplotlib.pyplot as plt\n",
        "\n",
        "plt.style.use(\"ggplot\")\n",
        "plt.figure()\n",
        "plt.plot(np.arange(0, 15), H.history[\"loss\"], label=\"train_loss\")\n",
        "plt.plot(np.arange(0, 15), H.history[\"val_loss\"], label=\"val_loss\")\n",
        "plt.title(\"Loss Plot\")\n",
        "plt.xlabel(\"Epoch #\")\n",
        "plt.ylabel(\"Loss\")\n",
        "plt.legend()\n",
        "plt.show()"
      ],
      "metadata": {
        "colab": {
          "base_uri": "https://localhost:8080/",
          "height": 299
        },
        "id": "xuJf4MZbAnlM",
        "outputId": "cbc1a11a-8cc6-4407-b5f0-0f0c0d3dd07a"
      },
      "execution_count": 18,
      "outputs": [
        {
          "output_type": "display_data",
          "data": {
            "image/png": "[encoded data removed]",
            "text/plain": [
              "<Figure size 432x288 with 1 Axes>"
            ]
          },
          "metadata": {}
        }
      ]
    },
    {
      "cell_type": "code",
      "source": [
        "plt.style.use(\"ggplot\")\n",
        "plt.figure()\n",
        "plt.plot(np.arange(0, 15), H.history[\"acc\"], label=\"train_acc\")\n",
        "plt.plot(np.arange(0, 15), H.history[\"val_acc\"], label=\"val_acc\")\n",
        "plt.title(\"Accuracy Plot\")\n",
        "plt.xlabel(\"Epoch #\")\n",
        "plt.ylabel(\"Acc\")\n",
        "plt.legend()\n",
        "plt.show()"
      ],
      "metadata": {
        "colab": {
          "base_uri": "https://localhost:8080/",
          "height": 299
        },
        "id": "m0vedX2-ArEj",
        "outputId": "bad5d97a-f940-4ce4-b39a-5382fa88fea6"
      },
      "execution_count": 21,
      "outputs": [
        {
          "output_type": "display_data",
          "data": {
            "image/png": "[encoded data removed]",
            "text/plain": [
              "<Figure size 432x288 with 1 Axes>"
            ]
          },
          "metadata": {}
        }
      ]
    },
    {
      "cell_type": "code",
      "source": [
        "from sklearn.metrics import classification_report\n",
        "\n",
        "pred = model.predict(x_val)\n",
        "labels = (pred > 0.5).astype(np.int)\n",
        "\n",
        "print(classification_report(y_val, labels))"
      ],
      "metadata": {
        "colab": {
          "base_uri": "https://localhost:8080/"
        },
        "id": "wLFDgbYHAuBP",
        "outputId": "a3cd2395-f0ef-491a-e94c-8ebca69b5e1a"
      },
      "execution_count": 22,
      "outputs": [
        {
          "output_type": "stream",
          "name": "stdout",
          "text": [
            "              precision    recall  f1-score   support\n",
            "\n",
            "           0       0.91      1.00      0.95        50\n",
            "           1       0.53      1.00      0.69        50\n",
            "           2       0.00      0.00      0.00        50\n",
            "\n",
            "    accuracy                           0.67       150\n",
            "   macro avg       0.48      0.67      0.55       150\n",
            "weighted avg       0.48      0.67      0.55       150\n",
            "\n"
          ]
        },
        {
          "output_type": "stream",
          "name": "stderr",
          "text": [
            "/usr/local/lib/python3.7/dist-packages/sklearn/metrics/_classification.py:1318: UndefinedMetricWarning: Precision and F-score are ill-defined and being set to 0.0 in labels with no predicted samples. Use `zero_division` parameter to control this behavior.\n",
            "  _warn_prf(average, modifier, msg_start, len(result))\n",
            "/usr/local/lib/python3.7/dist-packages/sklearn/metrics/_classification.py:1318: UndefinedMetricWarning: Precision and F-score are ill-defined and being set to 0.0 in labels with no predicted samples. Use `zero_division` parameter to control this behavior.\n",
            "  _warn_prf(average, modifier, msg_start, len(result))\n",
            "/usr/local/lib/python3.7/dist-packages/sklearn/metrics/_classification.py:1318: UndefinedMetricWarning: Precision and F-score are ill-defined and being set to 0.0 in labels with no predicted samples. Use `zero_division` parameter to control this behavior.\n",
            "  _warn_prf(average, modifier, msg_start, len(result))\n"
          ]
        }
      ]
    }
  ]
}